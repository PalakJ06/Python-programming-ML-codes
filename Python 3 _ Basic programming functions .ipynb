{
 "cells": [
  {
   "cell_type": "code",
   "execution_count": null,
   "metadata": {},
   "outputs": [],
   "source": [
    "######################################## 13th Janurary #######################################\n",
    "\n",
    "## next thing loop\n",
    "# 1. For loop\n",
    "# 2. While loop"
   ]
  },
  {
   "cell_type": "code",
   "execution_count": null,
   "metadata": {},
   "outputs": [],
   "source": [
    "# print squares of the values using for loop : list case\n",
    "x = [4,9,7,2,6,17,18,19,22]\n",
    "for val in x:\n",
    "    print(\"The square of the number is \",val,\"is\",val**2)"
   ]
  },
  {
   "cell_type": "code",
   "execution_count": null,
   "metadata": {},
   "outputs": [],
   "source": [
    "# take input of 5 vakues from the user and print only the highest"
   ]
  },
  {
   "cell_type": "code",
   "execution_count": null,
   "metadata": {},
   "outputs": [],
   "source": [
    "val=[] # means val can take multiple values at a time\n",
    " \n",
    "num = int(input(\"How many numbers you want to enter \"))\n",
    " \n",
    "for ctr in range(num): # range will take values from 0 to num-1\n",
    "    x = int(input(\"Enter the number \"))\n",
    "    val.append(x)\n",
    " \n",
    "print(\"The highest number entered is\",max(val))"
   ]
  },
  {
   "cell_type": "code",
   "execution_count": null,
   "metadata": {},
   "outputs": [],
   "source": [
    "############################# 14th Janurary###############################3"
   ]
  },
  {
   "cell_type": "code",
   "execution_count": null,
   "metadata": {},
   "outputs": [],
   "source": [
    "#Looping through the dictionary"
   ]
  },
  {
   "cell_type": "code",
   "execution_count": null,
   "metadata": {},
   "outputs": [],
   "source": [
    "students = {'Palak':'Stats','Rahul' : 'Prpgramming','Deepika' :'Python'}"
   ]
  },
  {
   "cell_type": "code",
   "execution_count": null,
   "metadata": {},
   "outputs": [],
   "source": [
    "## option-1 : looping through only keys : Only keys will get printed"
   ]
  },
  {
   "cell_type": "code",
   "execution_count": null,
   "metadata": {},
   "outputs": [],
   "source": [
    "for ctr in students.keys():\n",
    "    print(ctr)"
   ]
  },
  {
   "cell_type": "code",
   "execution_count": null,
   "metadata": {},
   "outputs": [],
   "source": [
    "## option-2 : Looping through only values"
   ]
  },
  {
   "cell_type": "code",
   "execution_count": null,
   "metadata": {},
   "outputs": [],
   "source": [
    "for ctr in students.values():\n",
    "    print(ctr)"
   ]
  },
  {
   "cell_type": "code",
   "execution_count": null,
   "metadata": {},
   "outputs": [],
   "source": [
    "## option-3 : Looping through both keys and values"
   ]
  },
  {
   "cell_type": "code",
   "execution_count": null,
   "metadata": {},
   "outputs": [],
   "source": [
    "for x,y in students.items():\n",
    "    print(x, \"is doing the course on\",y)"
   ]
  },
  {
   "cell_type": "code",
   "execution_count": null,
   "metadata": {},
   "outputs": [],
   "source": [
    "Family_members = int(input('Enter the number of family members ')) "
   ]
  },
  {
   "cell_type": "code",
   "execution_count": null,
   "metadata": {},
   "outputs": [],
   "source": [
    "sum = 0\n",
    "for x in range(Family_members):\n",
    "    age = int(input('Enter the age of each member '))\n",
    "    if age<5:\n",
    "        sum = sum + 0\n",
    "    elif age<18:\n",
    "        sum = sum + 200\n",
    "    elif age<60:\n",
    "        sum = sum + 400\n",
    "    else:\n",
    "        sum = sum + 400\n",
    "        \n",
    "print('Total fees of entire family is ', sum)"
   ]
  },
  {
   "cell_type": "code",
   "execution_count": null,
   "metadata": {},
   "outputs": [],
   "source": [
    "# Factorial of a number \n",
    "x = 1\n",
    "num = int(input(\"Enter a number \"))\n",
    "for i in range(1,num+1):\n",
    "    x = x*i\n",
    "print('factorial of',num, 'is', x)\n",
    "    "
   ]
  },
  {
   "cell_type": "code",
   "execution_count": null,
   "metadata": {},
   "outputs": [],
   "source": [
    "## while loop : when we dont know how many times our loop will run\n",
    "## it is important to reset your counter"
   ]
  },
  {
   "cell_type": "code",
   "execution_count": null,
   "metadata": {},
   "outputs": [],
   "source": [
    "num = 10\n",
    "while num>5:\n",
    "    print(num**2)\n",
    "    num = num -1  # it is important otherwise it will go on an infinite loop and will print 100"
   ]
  },
  {
   "cell_type": "code",
   "execution_count": null,
   "metadata": {},
   "outputs": [],
   "source": [
    "# Write a query to print the highest number where user keep entering numbers & the loop will terminate until he/she enters a 0\n",
    "x = 1\n",
    "y = []                       \n",
    "while x > 0:\n",
    "    x = int(input('enter the number '))\n",
    "    y.append(x)\n",
    "    \n",
    "    #x = x - 1 \n",
    "print('The max of all numbers is ', max(y))\n",
    "print(y)\n",
    "# list is necessary here otherwise yo will get an error of int object is not iterable because list is an interable object"
   ]
  },
  {
   "cell_type": "code",
   "execution_count": null,
   "metadata": {},
   "outputs": [],
   "source": [
    "#####another program try after class\n"
   ]
  },
  {
   "cell_type": "code",
   "execution_count": null,
   "metadata": {},
   "outputs": [],
   "source": [
    "#################################### 15th Jan ###################################"
   ]
  },
  {
   "cell_type": "code",
   "execution_count": null,
   "metadata": {},
   "outputs": [],
   "source": [
    "x = [6,8,1,4,5,3]\n",
    "for ctr in x:\n",
    "    if ctr == 1:\n",
    "        continue \n",
    "    else:\n",
    "        print(ctr**2)"
   ]
  },
  {
   "cell_type": "code",
   "execution_count": null,
   "metadata": {},
   "outputs": [],
   "source": [
    "x = [6,8,1,4,5,3]\n",
    "for ctr in x:\n",
    "    if ctr != 1:\n",
    "        print(ctr**2)\n",
    "    else:\n",
    "        pass\n",
    "    print('Hello') # pass will print the hello for one but in case of continue this hello will not get print"
   ]
  },
  {
   "cell_type": "code",
   "execution_count": null,
   "metadata": {},
   "outputs": [],
   "source": [
    "x = [6,8,1,4,5,3]\n",
    "for ctr in x:\n",
    "    if ctr != 1:\n",
    "        print(ctr**2)\n",
    "    else:\n",
    "        break\n",
    "    print('Hello')  # break will not letting print all commands after 1 only, that is calc for 4,5,3 cant be printed"
   ]
  },
  {
   "cell_type": "code",
   "execution_count": null,
   "metadata": {},
   "outputs": [],
   "source": [
    "## python programme to check whether a string is a pallindrome  ###"
   ]
  },
  {
   "cell_type": "code",
   "execution_count": null,
   "metadata": {},
   "outputs": [],
   "source": [
    "x = input('Enter a string ') # for eg : level "
   ]
  },
  {
   "cell_type": "code",
   "execution_count": null,
   "metadata": {},
   "outputs": [],
   "source": [
    "str_pallin = 'level'"
   ]
  },
  {
   "cell_type": "code",
   "execution_count": null,
   "metadata": {},
   "outputs": [],
   "source": [
    "for i in range(0 , len(str_pallin)):\n",
    "    print(str_pallin[i])"
   ]
  },
  {
   "cell_type": "code",
   "execution_count": null,
   "metadata": {},
   "outputs": [],
   "source": [
    "## 1. Check whether the number is prime or not?\n",
    "## 2. Check the HCF of a given number \n",
    "## 3. Check the LCM of a given number \n",
    "## 4. Pallindrome"
   ]
  },
  {
   "cell_type": "code",
   "execution_count": null,
   "metadata": {},
   "outputs": [],
   "source": [
    "# Create a program that allows users to enter how many grades they have. Create a FOR loop that asks\n",
    "# them for each grade and then give them the average of their grades at the end.\n",
    "# Exercise 4b: Write this program using a WHILE loop."
   ]
  },
  {
   "cell_type": "code",
   "execution_count": 2,
   "metadata": {},
   "outputs": [
    {
     "name": "stdout",
     "output_type": "stream",
     "text": [
      "How many grades do you want to enter : 4\n"
     ]
    }
   ],
   "source": [
    "grades = int(input('How many grades do you want to enter : '))"
   ]
  },
  {
   "cell_type": "code",
   "execution_count": 3,
   "metadata": {},
   "outputs": [
    {
     "name": "stdout",
     "output_type": "stream",
     "text": [
      "Enter each grade one by one: 1\n",
      "Enter each grade one by one: 2\n",
      "Enter each grade one by one: 3\n",
      "Enter each grade one by one: 4\n",
      "The average is :  2.5\n"
     ]
    }
   ],
   "source": [
    "sum = 0 \n",
    "for i in range(grades):\n",
    "    x = int(input(\"Enter each grade one by one: \"))\n",
    "    sum = sum + x\n",
    "print('The average is : ', sum/grades)"
   ]
  },
  {
   "cell_type": "code",
   "execution_count": 4,
   "metadata": {},
   "outputs": [
    {
     "name": "stdout",
     "output_type": "stream",
     "text": [
      "Enter each grade one by one: 1\n",
      "Enter each grade one by one: 2\n",
      "Enter each grade one by one: 3\n",
      "Enter each grade one by one: 4\n",
      "The average is :  2.5\n"
     ]
    }
   ],
   "source": [
    "sum = 0\n",
    "num = 0 \n",
    "\n",
    "while num<grades:\n",
    "    x = int(input(\"Enter each grade one by one: \"))\n",
    "    sum = sum + x\n",
    "    num +=1\n",
    "print('The average is : ', sum/grades)"
   ]
  },
  {
   "cell_type": "code",
   "execution_count": null,
   "metadata": {},
   "outputs": [],
   "source": []
  }
 ],
 "metadata": {
  "kernelspec": {
   "display_name": "Python 3",
   "language": "python",
   "name": "python3"
  },
  "language_info": {
   "codemirror_mode": {
    "name": "ipython",
    "version": 3
   },
   "file_extension": ".py",
   "mimetype": "text/x-python",
   "name": "python",
   "nbconvert_exporter": "python",
   "pygments_lexer": "ipython3",
   "version": "3.6.10"
  }
 },
 "nbformat": 4,
 "nbformat_minor": 4
}
