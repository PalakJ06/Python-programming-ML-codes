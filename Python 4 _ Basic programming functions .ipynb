{
 "cells": [
  {
   "cell_type": "code",
   "execution_count": null,
   "metadata": {},
   "outputs": [],
   "source": [
    "############## 16th January ####################"
   ]
  },
  {
   "cell_type": "code",
   "execution_count": null,
   "metadata": {},
   "outputs": [],
   "source": [
    "## Create functions with python : we need to customise our own functions beacuse we need to automate the coding process\n",
    "# starts with def then name of the function and variales should be given inside the brackets "
   ]
  },
  {
   "cell_type": "code",
   "execution_count": 1,
   "metadata": {},
   "outputs": [],
   "source": [
    "def greet():\n",
    "    name = input('Please enter your name')\n",
    "    print('Good morning', name)"
   ]
  },
  {
   "cell_type": "code",
   "execution_count": 2,
   "metadata": {},
   "outputs": [
    {
     "name": "stdout",
     "output_type": "stream",
     "text": [
      "Please enter your namePalak\n",
      "Good morning Palak\n"
     ]
    }
   ],
   "source": [
    "greet()"
   ]
  },
  {
   "cell_type": "code",
   "execution_count": 3,
   "metadata": {},
   "outputs": [],
   "source": [
    "def greet_new(n):\n",
    "    print('Good morning',n)"
   ]
  },
  {
   "cell_type": "code",
   "execution_count": 4,
   "metadata": {},
   "outputs": [
    {
     "name": "stdout",
     "output_type": "stream",
     "text": [
      "Good morning Palak\n"
     ]
    }
   ],
   "source": [
    "greet_new('Palak')"
   ]
  },
  {
   "cell_type": "code",
   "execution_count": null,
   "metadata": {},
   "outputs": [],
   "source": [
    "## Now, lets take two numbers a,b and print 3*a+2*b"
   ]
  },
  {
   "cell_type": "code",
   "execution_count": null,
   "metadata": {},
   "outputs": [],
   "source": [
    "def MYcalc(a,b):\n",
    "    c = 2*a+3*b\n",
    "    print(c)"
   ]
  },
  {
   "cell_type": "code",
   "execution_count": null,
   "metadata": {},
   "outputs": [],
   "source": [
    "MYcalc(5,8)"
   ]
  },
  {
   "cell_type": "code",
   "execution_count": null,
   "metadata": {},
   "outputs": [],
   "source": [
    "## write a function where User can take P,R,T as input and calcuate SI and total amount"
   ]
  },
  {
   "cell_type": "code",
   "execution_count": null,
   "metadata": {},
   "outputs": [],
   "source": [
    "def Amountcalc(P,T):\n",
    "    R = float(input('Enter the rate of interest in fraction like enter 7% as 0.07 ' ))\n",
    "    SI = (P*R*T)/100\n",
    "    A = SI + P\n",
    "    print('The SI is ', SI)\n",
    "    print('The total amount is ', A)\n",
    "\n",
    "# NOTE: SI and A are called local varibles and they are accessible to only local environment"
   ]
  },
  {
   "cell_type": "code",
   "execution_count": null,
   "metadata": {},
   "outputs": [],
   "source": [
    "Amountcalc(100,3)"
   ]
  },
  {
   "cell_type": "code",
   "execution_count": null,
   "metadata": {},
   "outputs": [],
   "source": [
    "## now, if we keep one variable as default then we dont have to explicitly mention the value of that"
   ]
  },
  {
   "cell_type": "code",
   "execution_count": null,
   "metadata": {},
   "outputs": [],
   "source": [
    "def Amountcalc_new(P,T,R = 7):\n",
    "    SI = (P*R*T)/100\n",
    "    A = SI + P\n",
    "    print('The SI is ', SI)\n",
    "    print('The total amount is ', A)\n",
    "    "
   ]
  },
  {
   "cell_type": "code",
   "execution_count": null,
   "metadata": {},
   "outputs": [],
   "source": [
    "Amountcalc_new(100,3)"
   ]
  },
  {
   "cell_type": "code",
   "execution_count": null,
   "metadata": {},
   "outputs": [],
   "source": [
    "Amountcalc_new(100,3,4)"
   ]
  },
  {
   "cell_type": "code",
   "execution_count": null,
   "metadata": {},
   "outputs": [],
   "source": [
    "###################### Jan 18 ####################################"
   ]
  },
  {
   "cell_type": "code",
   "execution_count": null,
   "metadata": {},
   "outputs": [],
   "source": [
    "# returning local varibale"
   ]
  },
  {
   "cell_type": "code",
   "execution_count": null,
   "metadata": {},
   "outputs": [],
   "source": [
    "a = 7\n",
    "def Mycalc(x,y):\n",
    "    z = 2*x+y \n",
    "    print(z)\n",
    "    return(z)"
   ]
  },
  {
   "cell_type": "code",
   "execution_count": null,
   "metadata": {},
   "outputs": [],
   "source": [
    "Mycalc(3,4)"
   ]
  },
  {
   "cell_type": "code",
   "execution_count": null,
   "metadata": {},
   "outputs": [],
   "source": [
    "##"
   ]
  },
  {
   "cell_type": "code",
   "execution_count": null,
   "metadata": {},
   "outputs": [],
   "source": [
    "# Q : we dont the Number of values user enterend : arbitary values"
   ]
  },
  {
   "cell_type": "code",
   "execution_count": null,
   "metadata": {},
   "outputs": [],
   "source": [
    "def MyFUNC(*x):\n",
    "    print(type(x))\n",
    "    p = len(x)\n",
    "    s = sum(x)\n",
    "    print(\"the sum of all values \",p,'values entered by you is',s)\n"
   ]
  },
  {
   "cell_type": "code",
   "execution_count": null,
   "metadata": {},
   "outputs": [],
   "source": [
    "MyFUNC(3,2,2)"
   ]
  },
  {
   "cell_type": "code",
   "execution_count": null,
   "metadata": {},
   "outputs": [],
   "source": [
    "############################################## Practse prblems ############################################"
   ]
  },
  {
   "cell_type": "code",
   "execution_count": null,
   "metadata": {},
   "outputs": [],
   "source": [
    "### HWK -1 Check whether a number is prime or not?\n",
    "## logic : 1: A prime num has only 2 factors: 1 and the number itself for eg, 2,3,5,7 are prime while 6 is composite"
   ]
  },
  {
   "cell_type": "code",
   "execution_count": 1,
   "metadata": {},
   "outputs": [
    {
     "name": "stdout",
     "output_type": "stream",
     "text": [
      "Enter a number 78\n"
     ]
    }
   ],
   "source": [
    "x = int(input('Enter a number '))"
   ]
  },
  {
   "cell_type": "code",
   "execution_count": 2,
   "metadata": {},
   "outputs": [
    {
     "name": "stdout",
     "output_type": "stream",
     "text": [
      "x is composite\n"
     ]
    }
   ],
   "source": [
    "message = \"x is prime\"   # keeping message as a string at the start and avoiding print statements within the loop will prevent pritnint statement each time\n",
    "for i in range(2,x):\n",
    "    if x%i == 0:\n",
    "        message = 'x is composite'\n",
    "        break\n",
    "    #else:\n",
    "        #message = 'x is prime'\n",
    "print(message)"
   ]
  },
  {
   "cell_type": "code",
   "execution_count": 38,
   "metadata": {},
   "outputs": [],
   "source": [
    "## GCD of two numbers "
   ]
  },
  {
   "cell_type": "code",
   "execution_count": 7,
   "metadata": {},
   "outputs": [
    {
     "name": "stdout",
     "output_type": "stream",
     "text": [
      "Enter the first number 8\n",
      "Enter the second number 10\n"
     ]
    }
   ],
   "source": [
    "a = int(input('Enter the first number '))\n",
    "b = int(input('Enter the second number '))"
   ]
  },
  {
   "cell_type": "code",
   "execution_count": 8,
   "metadata": {},
   "outputs": [
    {
     "name": "stdout",
     "output_type": "stream",
     "text": [
      "('The GCD is', 2)\n"
     ]
    }
   ],
   "source": [
    "result = ''\n",
    "\n",
    "if b%a == 0:\n",
    "    result = 'The GCD is',a\n",
    "    \n",
    "else:\n",
    "    for i in range(a,1,-1):   \n",
    "        if b%i == 0 and a%i == 0:\n",
    "            result = 'The GCD is',i\n",
    "            break\n",
    "        else:\n",
    "            result = 'The GCD is',1\n",
    "    \n",
    "print(result)"
   ]
  },
  {
   "cell_type": "code",
   "execution_count": 30,
   "metadata": {},
   "outputs": [],
   "source": [
    "def HCF_calc (a,b):\n",
    "    result = ''\n",
    "    if b%a == 0:\n",
    "        result = 'The GCD is',a\n",
    "    else:\n",
    "        for i in range(a,1,-1):\n",
    "            if b%i == 0 and a%i == 0:\n",
    "                result = 'The GCD is',i\n",
    "                break\n",
    "            else:\n",
    "                result = 'The GCD is',1\n",
    "                break\n",
    "    print(result)\n",
    "    \n",
    "    "
   ]
  },
  {
   "cell_type": "code",
   "execution_count": 31,
   "metadata": {},
   "outputs": [
    {
     "name": "stdout",
     "output_type": "stream",
     "text": [
      "('The GCD is', 5)\n"
     ]
    }
   ],
   "source": [
    "HCF_calc (5,15)"
   ]
  },
  {
   "cell_type": "code",
   "execution_count": null,
   "metadata": {},
   "outputs": [],
   "source": [
    "## HWK -2 print the LCM of two numbers\n",
    "## Math definition of LCM  : LCM(4,6) is 12 bcs 12 is the first least number that is divisible by both 4 and 6"
   ]
  },
  {
   "cell_type": "code",
   "execution_count": null,
   "metadata": {},
   "outputs": [],
   "source": [
    "## LCM of two numbers : for ex: LCM of 16 and 20 is 80 , 7 & 5 is 35 ,1"
   ]
  },
  {
   "cell_type": "code",
   "execution_count": 159,
   "metadata": {},
   "outputs": [
    {
     "name": "stdout",
     "output_type": "stream",
     "text": [
      "Enter first number 3\n",
      "Enter second number 7\n"
     ]
    }
   ],
   "source": [
    "x = int(input('Enter first number '))\n",
    "y = int(input('Enter second number '))\n",
    "u1 = []\n",
    "v1 = []"
   ]
  },
  {
   "cell_type": "code",
   "execution_count": 160,
   "metadata": {},
   "outputs": [
    {
     "name": "stdout",
     "output_type": "stream",
     "text": [
      "('The LCM is ', 21)\n"
     ]
    }
   ],
   "source": [
    "result = ''\n",
    "\n",
    "if max(x,y) % min(x,y)== 0:\n",
    "    result = 'The LCM is ',max(x,y)\n",
    "    \n",
    "else:\n",
    "    \n",
    "    for i in range(1,max(x,y)+1):\n",
    "        u = min(x,y)*i\n",
    "        u1.append(u)\n",
    "        \n",
    "    for i in range(1,max(x,y)+1):\n",
    "        v = max(x,y)*i\n",
    "        v1.append(v)\n",
    "        \n",
    "    for m in u1:\n",
    "        if m in v1:\n",
    "            result = 'The LCM is ', m \n",
    "            break\n",
    "    \n",
    "print(result)"
   ]
  },
  {
   "cell_type": "code",
   "execution_count": null,
   "metadata": {},
   "outputs": [],
   "source": []
  }
 ],
 "metadata": {
  "kernelspec": {
   "display_name": "Python 3",
   "language": "python",
   "name": "python3"
  },
  "language_info": {
   "codemirror_mode": {
    "name": "ipython",
    "version": 3
   },
   "file_extension": ".py",
   "mimetype": "text/x-python",
   "name": "python",
   "nbconvert_exporter": "python",
   "pygments_lexer": "ipython3",
   "version": "3.6.10"
  }
 },
 "nbformat": 4,
 "nbformat_minor": 4
}
