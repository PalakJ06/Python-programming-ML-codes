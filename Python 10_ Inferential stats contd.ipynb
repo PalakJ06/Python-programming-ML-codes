{
 "cells": [
  {
   "cell_type": "code",
   "execution_count": null,
   "metadata": {},
   "outputs": [],
   "source": [
    "## variance tests\n",
    "# one - variance test : we have to compare the variance against a particular value. One variance test \n",
    "# is used to ccompare a variance of a sample against a claim value and establish whether the distance\n",
    "# between them can be ignored or not\n",
    "\n",
    "# if the claim value falls in the interval predicted for the population standard deviation , then\n",
    "# we donot reject the null hypothesis and we conclude that the value of the sample variance is = to claim value\n",
    "\n",
    "# two -variance test is used when we have two independent samples and we wish to compare their variances\n",
    "# and establish whether they can be considered as equal or not"
   ]
  },
  {
   "cell_type": "code",
   "execution_count": 1,
   "metadata": {},
   "outputs": [],
   "source": [
    "list_1 = [3,5,6,3,7]\n",
    "list_2 = [7,8,5,3,2,9] \n",
    "# H0 : our claim is that ratio of both samples variances will be equal to 1"
   ]
  },
  {
   "cell_type": "code",
   "execution_count": 2,
   "metadata": {},
   "outputs": [],
   "source": [
    "import numpy as np"
   ]
  },
  {
   "cell_type": "code",
   "execution_count": 4,
   "metadata": {},
   "outputs": [
    {
     "data": {
      "text/plain": [
       "0.39050847457627125"
      ]
     },
     "execution_count": 4,
     "metadata": {},
     "output_type": "execute_result"
    }
   ],
   "source": [
    "F = np.var(list_1)/np.var(list_2)\n",
    "F"
   ]
  },
  {
   "cell_type": "code",
   "execution_count": 5,
   "metadata": {},
   "outputs": [],
   "source": [
    "import scipy"
   ]
  },
  {
   "cell_type": "code",
   "execution_count": 6,
   "metadata": {},
   "outputs": [],
   "source": [
    "from scipy import stats"
   ]
  },
  {
   "cell_type": "code",
   "execution_count": 7,
   "metadata": {},
   "outputs": [],
   "source": [
    "from scipy.stats import f   # fisher distribution"
   ]
  },
  {
   "cell_type": "code",
   "execution_count": 9,
   "metadata": {},
   "outputs": [
    {
     "data": {
      "text/plain": [
       "0.38323272516750323"
      ]
     },
     "execution_count": 9,
     "metadata": {},
     "output_type": "execute_result"
    }
   ],
   "source": [
    "p_value = (scipy.stats.f.cdf(F,len(list_1)-1, len(list_2)-1))*2\n",
    "p_value"
   ]
  },
  {
   "cell_type": "code",
   "execution_count": null,
   "metadata": {},
   "outputs": [],
   "source": [
    "# p > 0.05 , therefore we will not reject null hypothesis\n",
    "# we can conclude that the variances of the two samples can be considered as equal or their ratio is equal o 1"
   ]
  },
  {
   "cell_type": "code",
   "execution_count": null,
   "metadata": {},
   "outputs": [],
   "source": [
    "###################### Tools for discrete data ###########################"
   ]
  },
  {
   "cell_type": "code",
   "execution_count": 7,
   "metadata": {},
   "outputs": [],
   "source": [
    "# 1. one proportion test\n",
    "# for ex: I am clamimg that the minimum 30% of the people are graduates i.e Ho pr>=0.3 , Ha pr<0.3 : left tail test\n",
    "# n(sample) = 70 and g = 16        "
   ]
  },
  {
   "cell_type": "code",
   "execution_count": 8,
   "metadata": {},
   "outputs": [],
   "source": [
    "n = 70\n",
    "g = 16"
   ]
  },
  {
   "cell_type": "code",
   "execution_count": 9,
   "metadata": {},
   "outputs": [
    {
     "data": {
      "text/plain": [
       "0.22857142857142856"
      ]
     },
     "execution_count": 9,
     "metadata": {},
     "output_type": "execute_result"
    }
   ],
   "source": [
    "g/n"
   ]
  },
  {
   "cell_type": "code",
   "execution_count": 10,
   "metadata": {},
   "outputs": [],
   "source": [
    "# so on the basis of abpve valuei.e 0.22>0.05 , we can reject the null hypothesis\n",
    "# but we need to checck whether the difference of 0.3 - 0.228 can be ignored"
   ]
  },
  {
   "cell_type": "code",
   "execution_count": 11,
   "metadata": {},
   "outputs": [],
   "source": [
    "import statsmodels"
   ]
  },
  {
   "cell_type": "code",
   "execution_count": 12,
   "metadata": {},
   "outputs": [],
   "source": [
    "from statsmodels import stats"
   ]
  },
  {
   "cell_type": "code",
   "execution_count": 13,
   "metadata": {},
   "outputs": [],
   "source": [
    "import statsmodels.stats.proportion"
   ]
  },
  {
   "cell_type": "code",
   "execution_count": 14,
   "metadata": {},
   "outputs": [],
   "source": [
    "from statsmodels.stats.proportion import proportions_ztest"
   ]
  },
  {
   "cell_type": "code",
   "execution_count": 15,
   "metadata": {},
   "outputs": [
    {
     "data": {
      "text/plain": [
       "(-1.4231876063832773, 0.07734088870458052)"
      ]
     },
     "execution_count": 15,
     "metadata": {},
     "output_type": "execute_result"
    }
   ],
   "source": [
    "statsmodels.stats.proportion.proportions_ztest(16,70,0.3,alternative = 'smaller')"
   ]
  },
  {
   "cell_type": "code",
   "execution_count": 20,
   "metadata": {},
   "outputs": [],
   "source": [
    "# since p- values is > 0.05, then we cannot reject null hypothesis \n",
    "# and our claim is true, differnce can be ignored an you dont have to take any action"
   ]
  },
  {
   "cell_type": "code",
   "execution_count": null,
   "metadata": {},
   "outputs": [],
   "source": [
    "########################## 14th feb 2021 ###########################"
   ]
  },
  {
   "cell_type": "code",
   "execution_count": null,
   "metadata": {},
   "outputs": [],
   "source": [
    "## two proportions test"
   ]
  },
  {
   "cell_type": "code",
   "execution_count": null,
   "metadata": {},
   "outputs": [],
   "source": [
    "# there are two independent samples and their difference of the proportions will be compared to the claim value\n",
    "\n",
    "# for ex, bangalore has atleast 7 % more grads as compared to raipur\n",
    "# Sample of 120 people from BLR out of which 37 are grads\n",
    "# Sample of 140 people from RPR out of which 39 are grads\n"
   ]
  },
  {
   "cell_type": "code",
   "execution_count": 18,
   "metadata": {},
   "outputs": [
    {
     "data": {
      "text/plain": [
       "0.029761904761904767"
      ]
     },
     "execution_count": 18,
     "metadata": {},
     "output_type": "execute_result"
    }
   ],
   "source": [
    "37/120 - 39/140"
   ]
  },
  {
   "cell_type": "code",
   "execution_count": null,
   "metadata": {},
   "outputs": [],
   "source": [
    "# H0 pr(bLR) - pr(RPR) >= 0.07 , H0 pr(Blr) -pr(RPR) < 0.7 , left tail test"
   ]
  },
  {
   "cell_type": "code",
   "execution_count": 17,
   "metadata": {},
   "outputs": [],
   "source": [
    "import numpy as np"
   ]
  },
  {
   "cell_type": "code",
   "execution_count": 19,
   "metadata": {},
   "outputs": [],
   "source": [
    "# first array\n",
    "\n",
    "counts = np.array([37,39])"
   ]
  },
  {
   "cell_type": "code",
   "execution_count": 21,
   "metadata": {},
   "outputs": [],
   "source": [
    "# second array \n",
    "\n",
    "sample_size = np.array([120,140])"
   ]
  },
  {
   "cell_type": "code",
   "execution_count": 23,
   "metadata": {},
   "outputs": [
    {
     "data": {
      "text/plain": [
       "(-0.7111529590111993, 0.23849472764931634)"
      ]
     },
     "execution_count": 23,
     "metadata": {},
     "output_type": "execute_result"
    }
   ],
   "source": [
    "statsmodels.stats.proportion.proportions_ztest(counts, sample_size, value = 0.07, alternative = 'smaller')"
   ]
  },
  {
   "cell_type": "code",
   "execution_count": null,
   "metadata": {},
   "outputs": [],
   "source": [
    "# since p- values is > 0.05, then we cannot reject null hypothesis \n",
    "# and our claim is true, differnce can be ignored an you dont have to take any action"
   ]
  },
  {
   "cell_type": "code",
   "execution_count": null,
   "metadata": {},
   "outputs": [],
   "source": [
    "## another tool - chi square distribution #####\n",
    "\n",
    "# 1. goodness of fit : \n",
    "#  my sample : 30 lenovo, 40 samsung, 15 apple, 35 hp\n",
    "# actual sample of 120 : 35 lenoveo, 30 samsung, 25 spple, 30 hp\n",
    "\n",
    "# can the difference betwee my expected and actual can be ignored or not\n",
    "# or can these num be considered as equal or not\n"
   ]
  },
  {
   "cell_type": "code",
   "execution_count": 24,
   "metadata": {},
   "outputs": [],
   "source": [
    "import scipy"
   ]
  },
  {
   "cell_type": "code",
   "execution_count": 25,
   "metadata": {},
   "outputs": [],
   "source": [
    "from scipy import stats"
   ]
  },
  {
   "cell_type": "code",
   "execution_count": 26,
   "metadata": {},
   "outputs": [],
   "source": [
    "from scipy.stats import chisquare"
   ]
  },
  {
   "cell_type": "code",
   "execution_count": 27,
   "metadata": {},
   "outputs": [],
   "source": [
    "exp_vals = np.array([30,40,15,35])"
   ]
  },
  {
   "cell_type": "code",
   "execution_count": 29,
   "metadata": {},
   "outputs": [],
   "source": [
    "obs_vals = np.array([35,30,25,30])"
   ]
  },
  {
   "cell_type": "code",
   "execution_count": null,
   "metadata": {},
   "outputs": [],
   "source": [
    "# Ho : no differnece in counts"
   ]
  },
  {
   "cell_type": "code",
   "execution_count": 30,
   "metadata": {},
   "outputs": [
    {
     "data": {
      "text/plain": [
       "Power_divergenceResult(statistic=10.714285714285714, pvalue=0.013375553908094646)"
      ]
     },
     "execution_count": 30,
     "metadata": {},
     "output_type": "execute_result"
    }
   ],
   "source": [
    "scipy.stats.chisquare(obs_vals, f_exp = exp_vals)"
   ]
  },
  {
   "cell_type": "code",
   "execution_count": null,
   "metadata": {},
   "outputs": [],
   "source": [
    "## null hypothesis can be rejected and our claim is false, \n",
    "# the patterns are not jusified by our sample"
   ]
  },
  {
   "cell_type": "code",
   "execution_count": 31,
   "metadata": {},
   "outputs": [],
   "source": [
    "# 2. degree of assosiation\n",
    "\n",
    "# two vaiales are influencing or not\n",
    "# person walkin into restaurent, gender: M or F\n",
    "# type of food ordered : 3 types of cuisine\n",
    "\n",
    "# H0 : type of food doesnt depend on gender, two variable do not influence each other\n"
   ]
  },
  {
   "cell_type": "code",
   "execution_count": 32,
   "metadata": {},
   "outputs": [],
   "source": [
    "obs = np.array([[23,18,7],[21,12,19]])\n",
    "# first bracket : no of males ordered north indian , male-south indian , male - fast food\n",
    "# second bracket : same sequence for females"
   ]
  },
  {
   "cell_type": "code",
   "execution_count": 34,
   "metadata": {},
   "outputs": [],
   "source": [
    "from scipy.stats import chi2_contingency"
   ]
  },
  {
   "cell_type": "code",
   "execution_count": 35,
   "metadata": {},
   "outputs": [
    {
     "data": {
      "text/plain": [
       "(6.680058723327954,\n",
       " 0.03543591724882874,\n",
       " 2,\n",
       " array([[21.12, 14.4 , 12.48],\n",
       "        [22.88, 15.6 , 13.52]]))"
      ]
     },
     "execution_count": 35,
     "metadata": {},
     "output_type": "execute_result"
    }
   ],
   "source": [
    "scipy.stats.chi2_contingency(obs)"
   ]
  },
  {
   "cell_type": "code",
   "execution_count": null,
   "metadata": {},
   "outputs": [],
   "source": [
    "# easy way to remeber : \n",
    "# if a company is giving you a salary of < 5 lakh , then you can reject the company bcs the difference between expected and obs cannot be ignored\n",
    "# Type 1 and Type 2 error : you can do a type-1 error but you can not do a type-2 error."
   ]
  }
 ],
 "metadata": {
  "kernelspec": {
   "display_name": "Python 3",
   "language": "python",
   "name": "python3"
  },
  "language_info": {
   "codemirror_mode": {
    "name": "ipython",
    "version": 3
   },
   "file_extension": ".py",
   "mimetype": "text/x-python",
   "name": "python",
   "nbconvert_exporter": "python",
   "pygments_lexer": "ipython3",
   "version": "3.6.10"
  }
 },
 "nbformat": 4,
 "nbformat_minor": 4
}
