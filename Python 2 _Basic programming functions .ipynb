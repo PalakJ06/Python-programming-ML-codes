{
 "cells": [
  {
   "cell_type": "code",
   "execution_count": null,
   "metadata": {},
   "outputs": [],
   "source": [
    "num = int(input(\"Enter the number to be checked \"))"
   ]
  },
  {
   "cell_type": "code",
   "execution_count": null,
   "metadata": {},
   "outputs": [],
   "source": [
    "if num%2 == 0 :\n",
    "    print(num,\"is an even number\")\n",
    "else:\n",
    "    print(num,\"is an odd number\")"
   ]
  },
  {
   "cell_type": "code",
   "execution_count": null,
   "metadata": {},
   "outputs": [],
   "source": [
    "## nationality if- else problem ###"
   ]
  },
  {
   "cell_type": "code",
   "execution_count": null,
   "metadata": {},
   "outputs": [],
   "source": [
    "nationality = input(\"Enter your nationality \")"
   ]
  },
  {
   "cell_type": "code",
   "execution_count": null,
   "metadata": {},
   "outputs": [],
   "source": [
    "if nationality.title() == \"Indian\":\n",
    "    print(\"Welcome to india\")\n",
    "else:\n",
    "    print(\"Fill immigration form\")"
   ]
  },
  {
   "cell_type": "code",
   "execution_count": null,
   "metadata": {},
   "outputs": [],
   "source": [
    "### type-2 : checking multiple conditions ###"
   ]
  },
  {
   "cell_type": "code",
   "execution_count": null,
   "metadata": {},
   "outputs": [],
   "source": [
    "nationality = input(\"Enter your nationality \")\n",
    "Age = int(input(\"Enter your age \"))"
   ]
  },
  {
   "cell_type": "code",
   "execution_count": null,
   "metadata": {},
   "outputs": [],
   "source": [
    "if Age>=18 and nationality.title() == 'Indian' :\n",
    "    print(\"You are allowed to vote\")\n",
    "else:\n",
    "    print(\"You cannot vote\")"
   ]
  },
  {
   "cell_type": "code",
   "execution_count": null,
   "metadata": {},
   "outputs": [],
   "source": [
    "## nesting of conditional blocks ##"
   ]
  },
  {
   "cell_type": "code",
   "execution_count": null,
   "metadata": {},
   "outputs": [],
   "source": [
    "nationality = input(\"Enter your nationality \")"
   ]
  },
  {
   "cell_type": "code",
   "execution_count": null,
   "metadata": {},
   "outputs": [],
   "source": [
    "if nationality.title() == 'Indian':\n",
    "    age = int(input(\"Enter your age \"))\n",
    "    \n",
    "    if age>=18:\n",
    "        print(\"You are allowed to vote\") # for this print statement , outer if block def needs to be true and also inner block needs to be true\n",
    "        \n",
    "    else:\n",
    "        print (\"You will be allowed to vote after\", 18-age, \"years\" ) \n",
    "        print (\"Focus on your studies\")\n",
    "else:\n",
    "    print(\"You are not allowed to vote\")\n",
    "        "
   ]
  },
  {
   "cell_type": "code",
   "execution_count": null,
   "metadata": {},
   "outputs": [],
   "source": [
    "## program- 1 take input for salary and credit card bills\n",
    "## you will be required to file your IT returns if the salary > 25000 per month OR credit card bill > 7000\n",
    "\n",
    "## program -2 first, check whether a person is graduate or not and if he has graduated check whether he has a passport . If he has\n",
    "## passport , take input for the passport number . \n",
    "## else, print ask him to apply for the passport \n",
    "## if not graduate\n",
    "## check whether he lives in an urban or rural area\n",
    "## if he lives in a urban area , print a message that he is eligible for a subsidy of 1000\n",
    "## if he lives in a rural area, the maintenance charge will be INR 500 "
   ]
  },
  {
   "cell_type": "code",
   "execution_count": null,
   "metadata": {},
   "outputs": [],
   "source": [
    "salary and credit card bill\n",
    "IT returns are required to be submitted if sal>25000 / credit card bill>7000\n",
    " \n",
    "check whether the person is graduate or not\n",
    "if graduate then check whether he has passport or not:\n",
    "if he has the passport then take the input for the passport number:\n",
    "else print a message to ask him to apply for the same\n",
    " \n",
    "if not graduate\n",
    "then chcek whether he is in urban or rural area\n",
    "if he lives in urban area, print a message that he is eligible for a maintancnce change of INR 1000:\n",
    "if in rural, then maintanance charge will be INR 500    "
   ]
  },
  {
   "cell_type": "code",
   "execution_count": null,
   "metadata": {},
   "outputs": [],
   "source": [
    "# Exercise-1 "
   ]
  },
  {
   "cell_type": "code",
   "execution_count": null,
   "metadata": {},
   "outputs": [],
   "source": [
    "Salary = float(input(\"Enter your salary in $ \"))\n",
    "Credit_card_bill = float(input(\"Enter your bill in $ \"))"
   ]
  },
  {
   "cell_type": "code",
   "execution_count": null,
   "metadata": {},
   "outputs": [],
   "source": [
    "if Salary>25000 or Credit_card_bill > 7000 :\n",
    "    print(\"You can file your IT returns\")\n",
    "else:\n",
    "    print(\"You are not allowed to file\")\n"
   ]
  },
  {
   "cell_type": "code",
   "execution_count": null,
   "metadata": {},
   "outputs": [],
   "source": [
    "# Exercise-2\n",
    "\n",
    "Graduation_status = input(\"Enter your graduation status \")"
   ]
  },
  {
   "cell_type": "code",
   "execution_count": null,
   "metadata": {},
   "outputs": [],
   "source": [
    "if Graduation_status.title() == 'Graduated':\n",
    "    passport_status = input(\"Do you have a passport Yes/No \")\n",
    "    \n",
    "    if passport_status == 'Yes':\n",
    "        print(\"provide passport number \")\n",
    "    else:\n",
    "        print(\"Apply for a passport\")\n",
    "else:\n",
    "    \n",
    "    living_area = input(\"Do you live in urban or rural area \")\n",
    "    \n",
    "    if living_area.title() == 'Urban':\n",
    "        print(\"You are eligible for a subsidy of $ 1000\")\n",
    "    else:\n",
    "        print(\"You will be eligible for a subsidy of $ 500\")\n",
    "        "
   ]
  },
  {
   "cell_type": "code",
   "execution_count": null,
   "metadata": {},
   "outputs": [],
   "source": [
    "################################### 13th January ################################################"
   ]
  },
  {
   "cell_type": "code",
   "execution_count": null,
   "metadata": {},
   "outputs": [],
   "source": [
    "## Multiple choice and not a binary choice\n",
    "# Program-1 using elif"
   ]
  },
  {
   "cell_type": "code",
   "execution_count": null,
   "metadata": {},
   "outputs": [],
   "source": [
    "age = float(input('Enter your age '))"
   ]
  },
  {
   "cell_type": "code",
   "execution_count": null,
   "metadata": {},
   "outputs": [],
   "source": [
    "if age<=5:\n",
    "    print('You are an infant')\n",
    "    \n",
    "elif age<18:\n",
    "    print('You are a child')\n",
    "    \n",
    "elif age<60:\n",
    "    print('You are an adult')\n",
    "    \n",
    "else:\n",
    "    print('You are a senior citizen')\n",
    "    \n"
   ]
  },
  {
   "cell_type": "code",
   "execution_count": null,
   "metadata": {},
   "outputs": [],
   "source": [
    "## exercise for today \n",
    "#0-5 years - USD 200\n",
    "#6-18 - USD 500\n",
    "#19-60 USD 1000\n",
    "#>60 USD 800\n"
   ]
  },
  {
   "cell_type": "code",
   "execution_count": 7,
   "metadata": {},
   "outputs": [
    {
     "name": "stdout",
     "output_type": "stream",
     "text": [
      "Enter your age 67\n"
     ]
    }
   ],
   "source": [
    "age = float(input(\"Enter your age \"))"
   ]
  },
  {
   "cell_type": "code",
   "execution_count": 8,
   "metadata": {},
   "outputs": [
    {
     "name": "stdout",
     "output_type": "stream",
     "text": [
      "You will have USD 800\n"
     ]
    }
   ],
   "source": [
    "if age<5:\n",
    "    print('You will have USD 200')\n",
    "elif age<18:\n",
    "    print('You will have USD 500')\n",
    "elif age<60:\n",
    "    print('You will have USD 1000')\n",
    "else:\n",
    "    print('You will have USD 800')"
   ]
  }
 ],
 "metadata": {
  "kernelspec": {
   "display_name": "Python 3",
   "language": "python",
   "name": "python3"
  },
  "language_info": {
   "codemirror_mode": {
    "name": "ipython",
    "version": 3
   },
   "file_extension": ".py",
   "mimetype": "text/x-python",
   "name": "python",
   "nbconvert_exporter": "python",
   "pygments_lexer": "ipython3",
   "version": "3.6.10"
  }
 },
 "nbformat": 4,
 "nbformat_minor": 4
}
