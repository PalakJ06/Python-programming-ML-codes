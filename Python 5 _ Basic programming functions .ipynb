{
 "cells": [
  {
   "cell_type": "code",
   "execution_count": null,
   "metadata": {},
   "outputs": [],
   "source": [
    "############################### 20th Janurary , Object orineted programming ####################33\n",
    "\n",
    "# initializer block : 1. what variable are going to be required and 2. by what names are those inputs can be accessed\n",
    "    # 1. self is always needed to write in the initializer block and then number of inputs you wanna take\n",
    "    # 2. to access names: write self.variable"
   ]
  },
  {
   "cell_type": "code",
   "execution_count": 46,
   "metadata": {},
   "outputs": [],
   "source": [
    "class student():\n",
    "    \n",
    "    def __init__(self,name,age):    # add a space after def and double underscore\n",
    "        self.n = name \n",
    "        self.a = age\n",
    "        \n",
    "    # a menthod can be defined in the way that it can run solely on the basis of inputs given above\n",
    "    \n",
    "    def Printinfo(self):  # this method doesnt require any new info\n",
    "        print('The age of',self.n,'is',self.a,'years')\n",
    "        \n",
    "    def Fees(self,adv):\n",
    "        pending = 30000 - adv\n",
    "        print('Your balance is USD',pending)\n",
    "        # we need to give inout for adv \n",
    "        \n",
    "    def Nationality(self,EnterNationality):\n",
    "        if EnterNationality == 'american':\n",
    "            print('Welcome')\n",
    "        else:\n",
    "            input('Enter your passport number ')\n",
    "        \n",
    "                                   "
   ]
  },
  {
   "cell_type": "code",
   "execution_count": 47,
   "metadata": {},
   "outputs": [],
   "source": [
    "obj1 = student('Rahul', 23)   # object is constructed using the class student"
   ]
  },
  {
   "cell_type": "code",
   "execution_count": 48,
   "metadata": {},
   "outputs": [
    {
     "name": "stdout",
     "output_type": "stream",
     "text": [
      "The age of Rahul is 23 years\n"
     ]
    }
   ],
   "source": [
    "obj1.Printinfo()"
   ]
  },
  {
   "cell_type": "code",
   "execution_count": 49,
   "metadata": {},
   "outputs": [
    {
     "name": "stdout",
     "output_type": "stream",
     "text": [
      "Enter your passport number hidhoia\n"
     ]
    }
   ],
   "source": [
    "obj1.Nationality('Indian')"
   ]
  },
  {
   "cell_type": "code",
   "execution_count": 56,
   "metadata": {},
   "outputs": [],
   "source": [
    "class employee():   # parent class if we dont give anything within the bracket\n",
    "\n",
    "    #initializor block\n",
    "    def __init__(self,name, deptt, salary):\n",
    "        self.a = name\n",
    "        self.b = deptt\n",
    "        self.c = salary\n",
    "        self.d = 30\n",
    "\n",
    "    # method that does not require any input from the object\n",
    "    def PrintInfo(self):\n",
    "        print(self.a,\"is working in the\",self.b,\"department and earning a salary of INR\",self.c)\n",
    "        \n",
    "    # method that requires input   \n",
    "    def CalcTax(self,tds):\n",
    "        tax = 0.1*self.c - tds\n",
    "        if tax<0:\n",
    "            print(\"Your tax refund is INR\",-tax)\n",
    "        else:\n",
    "            print(\"The amount of tax to be paid by you is INR\",tax)\n",
    "\n",
    "    # method used to update the default value fixed at the time of input       \n",
    "    def UpdateLeaves (self,num):\n",
    "        self.d = self.d - num\n",
    "        print('You are left with', self.d,'number of leaves')\n",
    "        \n",
    "        \n",
    "# another parent class\n",
    "\n",
    "class Indiancitizen():\n",
    "    def __init__(self,aadhar):\n",
    "        self.g= aadhar\n",
    "\n",
    "    def UpdateAadhar(self):\n",
    "        print(\"Check the validity of Aadhar\")\n",
    "        \n",
    "    \n",
    "# overseas emp is the child of class employee . It can have one more parent i.e indiancitizen    \n",
    "class Overseasemp(employee,Indiancitizen):   \n",
    "    \n",
    "    #initializor block\n",
    "    def __init__(self,name, deptt, salary,passport,aadhar):\n",
    "        self.a = name\n",
    "        self.b = deptt\n",
    "        self.c = salary\n",
    "        self.d = 30\n",
    "        self.p = passport\n",
    "        self.g = aadhar\n",
    "        \n",
    "# for methods : scenario -1 : Even if we dont define any method same as parent block , child will inherit all methods from parent\n",
    "#               scenario -2 : define classes with same name and different function will overrule the formula of parent class\n",
    "#               scenario -3 : New method defined in child class\n",
    "    def CalcTax(self,tds,fc):\n",
    "        tax = 0.1*self.c - tds + 0.25*fc*70\n",
    "        if tax<0:\n",
    "            print(\"Your tax refund is INR\",-tax)\n",
    "        else:\n",
    "            print(\"The amount of tax to be paid by you is INR\",tax)\n",
    "    \n",
    "    def passportstatus(self):\n",
    "        print('Please ensure that emp passport is not expired')"
   ]
  },
  {
   "cell_type": "code",
   "execution_count": 57,
   "metadata": {},
   "outputs": [],
   "source": [
    "obj1 = employee('Palak','DA',80000)"
   ]
  },
  {
   "cell_type": "code",
   "execution_count": 58,
   "metadata": {},
   "outputs": [
    {
     "name": "stdout",
     "output_type": "stream",
     "text": [
      "Palak is working in the DA department and earning a salary of INR 80000\n"
     ]
    }
   ],
   "source": [
    "obj1.PrintInfo()"
   ]
  },
  {
   "cell_type": "code",
   "execution_count": 59,
   "metadata": {},
   "outputs": [
    {
     "name": "stdout",
     "output_type": "stream",
     "text": [
      "The amount of tax to be paid by you is INR 5000.0\n"
     ]
    }
   ],
   "source": [
    "obj1.CalcTax(3000)"
   ]
  },
  {
   "cell_type": "code",
   "execution_count": 60,
   "metadata": {},
   "outputs": [
    {
     "name": "stdout",
     "output_type": "stream",
     "text": [
      "You are left with 25 number of leaves\n"
     ]
    }
   ],
   "source": [
    "obj1.UpdateLeaves(5)"
   ]
  },
  {
   "cell_type": "code",
   "execution_count": 70,
   "metadata": {},
   "outputs": [],
   "source": [
    "obj2 = Overseasemp('Palak','DA',90000,'DF23456',3748937498)"
   ]
  },
  {
   "cell_type": "code",
   "execution_count": 71,
   "metadata": {},
   "outputs": [
    {
     "name": "stdout",
     "output_type": "stream",
     "text": [
      "Palak is working in the DA department and earning a salary of INR 90000\n"
     ]
    }
   ],
   "source": [
    "obj2.PrintInfo()"
   ]
  },
  {
   "cell_type": "code",
   "execution_count": 72,
   "metadata": {},
   "outputs": [
    {
     "name": "stdout",
     "output_type": "stream",
     "text": [
      "The amount of tax to be paid by you is INR 356000.0\n"
     ]
    }
   ],
   "source": [
    "obj2.CalcTax(3000,20000)"
   ]
  },
  {
   "cell_type": "code",
   "execution_count": 73,
   "metadata": {},
   "outputs": [
    {
     "name": "stdout",
     "output_type": "stream",
     "text": [
      "Please ensure that emp passport is not expired\n"
     ]
    }
   ],
   "source": [
    "obj2.passportstatus()"
   ]
  },
  {
   "cell_type": "code",
   "execution_count": 74,
   "metadata": {},
   "outputs": [
    {
     "ename": "AttributeError",
     "evalue": "'employee' object has no attribute 'passportstatus'",
     "output_type": "error",
     "traceback": [
      "\u001b[1;31m---------------------------------------------------------------------------\u001b[0m",
      "\u001b[1;31mAttributeError\u001b[0m                            Traceback (most recent call last)",
      "\u001b[1;32m<ipython-input-74-05b41c72919d>\u001b[0m in \u001b[0;36m<module>\u001b[1;34m\u001b[0m\n\u001b[1;32m----> 1\u001b[1;33m \u001b[0mobj1\u001b[0m\u001b[1;33m.\u001b[0m\u001b[0mpassportstatus\u001b[0m\u001b[1;33m(\u001b[0m\u001b[1;33m)\u001b[0m \u001b[1;31m######## parent class object cannot access this particular method\u001b[0m\u001b[1;33m\u001b[0m\u001b[1;33m\u001b[0m\u001b[0m\n\u001b[0m",
      "\u001b[1;31mAttributeError\u001b[0m: 'employee' object has no attribute 'passportstatus'"
     ]
    }
   ],
   "source": [
    "obj1.passportstatus() ######## parent class object cannot access this particular method"
   ]
  },
  {
   "cell_type": "code",
   "execution_count": 75,
   "metadata": {},
   "outputs": [
    {
     "name": "stdout",
     "output_type": "stream",
     "text": [
      "Check the validity of Aadhar\n"
     ]
    }
   ],
   "source": [
    "obj2.UpdateAadhar()"
   ]
  },
  {
   "cell_type": "code",
   "execution_count": 1,
   "metadata": {},
   "outputs": [],
   "source": [
    "#### List comprehension ###"
   ]
  },
  {
   "cell_type": "code",
   "execution_count": 3,
   "metadata": {},
   "outputs": [],
   "source": [
    "student = 'Palak Jain'"
   ]
  },
  {
   "cell_type": "code",
   "execution_count": 8,
   "metadata": {},
   "outputs": [
    {
     "name": "stdout",
     "output_type": "stream",
     "text": [
      "Palak Jain"
     ]
    }
   ],
   "source": [
    "for val in student:\n",
    "    print(val,end = '')  # is used to print in one line"
   ]
  },
  {
   "cell_type": "code",
   "execution_count": 7,
   "metadata": {},
   "outputs": [
    {
     "data": {
      "text/plain": [
       "['P', 'a', 'l', 'a', 'k', 'J', 'a', 'i', 'n']"
      ]
     },
     "execution_count": 7,
     "metadata": {},
     "output_type": "execute_result"
    }
   ],
   "source": [
    "chrs_list = [val for val in student if val!= ' ']\n",
    "chrs_list"
   ]
  },
  {
   "cell_type": "code",
   "execution_count": null,
   "metadata": {},
   "outputs": [],
   "source": []
  }
 ],
 "metadata": {
  "kernelspec": {
   "display_name": "Python 3",
   "language": "python",
   "name": "python3"
  },
  "language_info": {
   "codemirror_mode": {
    "name": "ipython",
    "version": 3
   },
   "file_extension": ".py",
   "mimetype": "text/x-python",
   "name": "python",
   "nbconvert_exporter": "python",
   "pygments_lexer": "ipython3",
   "version": "3.6.10"
  }
 },
 "nbformat": 4,
 "nbformat_minor": 4
}
